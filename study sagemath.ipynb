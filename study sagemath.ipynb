{
 "cells": [
  {
   "cell_type": "code",
   "execution_count": 24,
   "metadata": {
    "vscode": {
     "languageId": "plaintext"
    }
   },
   "outputs": [],
   "source": [
    "PointConfiguration.set_engine('topcom')   # optional - topcom\n",
    "p = PointConfiguration([[-1,-5/9],[0,10/9],[1,-5/9],[-2,-10/9],[0,20/9],[2,-10/9]])\n"
   ]
  },
  {
   "cell_type": "code",
   "execution_count": 27,
   "metadata": {
    "vscode": {
     "languageId": "plaintext"
    }
   },
   "outputs": [
    {
     "ename": "ValueError",
     "evalue": "You must install TOPCOM to test for regularity.",
     "output_type": "error",
     "traceback": [
      "\u001b[0;31m---------------------------------------------------------------------------\u001b[0m",
      "\u001b[0;31mKeyError\u001b[0m                                  Traceback (most recent call last)",
      "File \u001b[0;32m/usr/lib/python3.11/site-packages/sage/misc/cachefunc.pyx:987\u001b[0m, in \u001b[0;36msage.misc.cachefunc.CachedFunction.__call__ (build/cythonized/sage/misc/cachefunc.c:5777)\u001b[0;34m()\u001b[0m\n\u001b[1;32m    986\u001b[0m try:\n\u001b[0;32m--> 987\u001b[0m     return self.cache[k]\n\u001b[1;32m    988\u001b[0m except TypeError:  # k is not hashable\n",
      "File \u001b[0;32m/usr/lib/python3.11/site-packages/sage/misc/weak_dict.pyx:704\u001b[0m, in \u001b[0;36msage.misc.weak_dict.WeakValueDictionary.__getitem__ (build/cythonized/sage/misc/weak_dict.c:3930)\u001b[0;34m()\u001b[0m\n\u001b[1;32m    703\u001b[0m if wr == NULL:\n\u001b[0;32m--> 704\u001b[0m     raise KeyError(k)\n\u001b[1;32m    705\u001b[0m out = PyWeakref_GetObject(wr)\n",
      "\u001b[0;31mKeyError\u001b[0m: ((<class 'sage.geometry.triangulation.point_configuration.PointConfiguration'>, ((-1, -5/9, 1), (0, 10/9, 1), (1, -5/9, 1), (-2, -10/9, 1), (0, 20/9, 1), (2, -10/9, 1)), True, False, True, None, True), ())",
      "\nDuring handling of the above exception, another exception occurred:\n",
      "\u001b[0;31mValueError\u001b[0m                                Traceback (most recent call last)",
      "\u001b[1;32myeeyoe\\study-Sage\\study sagemath.ipynb 单元格 2\u001b[0m line \u001b[0;36m1\n\u001b[0;32m----> <a href='vscode-notebook-cell://github/yeeyoe/study-Sage/study%20sagemath.ipynb#X32sdnNjb2RlLXZmcw%3D%3D?line=0'>1</a>\u001b[0m regular \u001b[39m=\u001b[39m p\u001b[39m.\u001b[39;49mrestrict_to_regular_triangulations(\u001b[39mTrue\u001b[39;49;00m)\u001b[39m.\u001b[39mtriangulations_list()\n",
      "File \u001b[0;32m/usr/lib/python3.11/site-packages/sage/geometry/triangulation/point_configuration.py:801\u001b[0m, in \u001b[0;36mPointConfiguration.restrict_to_regular_triangulations\u001b[0;34m(self, regular)\u001b[0m\n\u001b[1;32m    764\u001b[0m \u001b[39mdef\u001b[39;00m \u001b[39mrestrict_to_regular_triangulations\u001b[39m(\u001b[39mself\u001b[39m, regular\u001b[39m=\u001b[39m\u001b[39mTrue\u001b[39;00m):\n\u001b[1;32m    765\u001b[0m \u001b[39m    \u001b[39m\u001b[39m\"\"\"\u001b[39;00m\n\u001b[1;32m    766\u001b[0m \u001b[39m    Restrict to regular triangulations.\u001b[39;00m\n\u001b[1;32m    767\u001b[0m \n\u001b[0;32m   (...)\u001b[0m\n\u001b[1;32m    799\u001b[0m \u001b[39m        sage: PointConfiguration.set_engine('internal')\u001b[39;00m\n\u001b[1;32m    800\u001b[0m \u001b[39m    \"\"\"\u001b[39;00m\n\u001b[0;32m--> 801\u001b[0m     \u001b[39mreturn\u001b[39;00m PointConfiguration(\u001b[39mself\u001b[39;49m,\n\u001b[1;32m    802\u001b[0m                               connected\u001b[39m=\u001b[39;49m\u001b[39mself\u001b[39;49m\u001b[39m.\u001b[39;49m_connected,\n\u001b[1;32m    803\u001b[0m                               fine\u001b[39m=\u001b[39;49m\u001b[39mself\u001b[39;49m\u001b[39m.\u001b[39;49m_fine,\n\u001b[1;32m    804\u001b[0m                               regular\u001b[39m=\u001b[39;49mregular,\n\u001b[1;32m    805\u001b[0m                               star\u001b[39m=\u001b[39;49m\u001b[39mself\u001b[39;49m\u001b[39m.\u001b[39;49m_star)\n",
      "File \u001b[0;32m/usr/lib/python3.11/site-packages/sage/misc/classcall_metaclass.pyx:320\u001b[0m, in \u001b[0;36msage.misc.classcall_metaclass.ClasscallMetaclass.__call__ (build/cythonized/sage/misc/classcall_metaclass.c:1903)\u001b[0;34m()\u001b[0m\n\u001b[1;32m    318\u001b[0m \"\"\"\n\u001b[1;32m    319\u001b[0m if cls.classcall is not None:\n\u001b[0;32m--> 320\u001b[0m     return cls.classcall(cls, *args, **kwds)\n\u001b[1;32m    321\u001b[0m else:\n\u001b[1;32m    322\u001b[0m     # Fast version of type.__call__(cls, *args, **kwds)\n",
      "File \u001b[0;32m/usr/lib/python3.11/site-packages/sage/geometry/triangulation/point_configuration.py:326\u001b[0m, in \u001b[0;36mPointConfiguration.__classcall__\u001b[0;34m(cls, points, projective, connected, fine, regular, star)\u001b[0m\n\u001b[1;32m    324\u001b[0m         star_point \u001b[39m=\u001b[39m \u001b[39mtuple\u001b[39m(star)\u001b[39m+\u001b[39m(\u001b[39m1\u001b[39m,)\n\u001b[1;32m    325\u001b[0m     star \u001b[39m=\u001b[39m points\u001b[39m.\u001b[39mindex(star_point)\n\u001b[0;32m--> 326\u001b[0m \u001b[39mreturn\u001b[39;00m \u001b[39msuper\u001b[39;49m()\u001b[39m.\u001b[39;49m__classcall__(\u001b[39mcls\u001b[39;49m, points, connected, fine,\n\u001b[1;32m    327\u001b[0m                              regular, star, defined_affine)\n",
      "File \u001b[0;32m/usr/lib/python3.11/site-packages/sage/misc/cachefunc.pyx:992\u001b[0m, in \u001b[0;36msage.misc.cachefunc.CachedFunction.__call__ (build/cythonized/sage/misc/cachefunc.c:5905)\u001b[0;34m()\u001b[0m\n\u001b[1;32m    990\u001b[0m         return self.cache[k]\n\u001b[1;32m    991\u001b[0m except KeyError:\n\u001b[0;32m--> 992\u001b[0m     w = self.f(*args, **kwds)\n\u001b[1;32m    993\u001b[0m     self.cache[k] = w\n\u001b[1;32m    994\u001b[0m     return w\n",
      "File \u001b[0;32m/usr/lib/python3.11/site-packages/sage/structure/unique_representation.py:1007\u001b[0m, in \u001b[0;36mCachedRepresentation.__classcall__\u001b[0;34m(cls, *args, **options)\u001b[0m\n\u001b[1;32m    992\u001b[0m \u001b[39m@weak_cached_function\u001b[39m(cache\u001b[39m=\u001b[39m\u001b[39m128\u001b[39m)  \u001b[39m# automatically a staticmethod\u001b[39;00m\n\u001b[1;32m    993\u001b[0m \u001b[39mdef\u001b[39;00m \u001b[39m__classcall__\u001b[39m(\u001b[39mcls\u001b[39m, \u001b[39m*\u001b[39margs, \u001b[39m*\u001b[39m\u001b[39m*\u001b[39moptions):\n\u001b[1;32m    994\u001b[0m \u001b[39m    \u001b[39m\u001b[39m\"\"\"\u001b[39;00m\n\u001b[1;32m    995\u001b[0m \u001b[39m    Construct a new object of this class or reuse an existing one.\u001b[39;00m\n\u001b[1;32m    996\u001b[0m \n\u001b[0;32m   (...)\u001b[0m\n\u001b[1;32m   1005\u001b[0m \u001b[39m        True\u001b[39;00m\n\u001b[1;32m   1006\u001b[0m \u001b[39m    \"\"\"\u001b[39;00m\n\u001b[0;32m-> 1007\u001b[0m     instance \u001b[39m=\u001b[39m typecall(\u001b[39mcls\u001b[39;49m, \u001b[39m*\u001b[39;49margs, \u001b[39m*\u001b[39;49m\u001b[39m*\u001b[39;49moptions)\n\u001b[1;32m   1008\u001b[0m     \u001b[39massert\u001b[39;00m \u001b[39misinstance\u001b[39m( instance, \u001b[39mcls\u001b[39m )\n\u001b[1;32m   1009\u001b[0m     \u001b[39mif\u001b[39;00m instance\u001b[39m.\u001b[39m\u001b[39m__class__\u001b[39m\u001b[39m.\u001b[39m__reduce__ \u001b[39m==\u001b[39m CachedRepresentation\u001b[39m.\u001b[39m__reduce__:\n",
      "File \u001b[0;32m/usr/lib/python3.11/site-packages/sage/misc/classcall_metaclass.pyx:471\u001b[0m, in \u001b[0;36msage.misc.classcall_metaclass.typecall (build/cythonized/sage/misc/classcall_metaclass.c:2367)\u001b[0;34m()\u001b[0m\n\u001b[1;32m    469\u001b[0m     2\n\u001b[1;32m    470\u001b[0m \"\"\"\n\u001b[0;32m--> 471\u001b[0m return (<PyTypeObject*>type).tp_call(cls, args, kwds)\n\u001b[1;32m    472\u001b[0m \n\u001b[1;32m    473\u001b[0m \n",
      "File \u001b[0;32m/usr/lib/python3.11/site-packages/sage/geometry/triangulation/point_configuration.py:358\u001b[0m, in \u001b[0;36mPointConfiguration.__init__\u001b[0;34m(self, points, connected, fine, regular, star, defined_affine)\u001b[0m\n\u001b[1;32m    356\u001b[0m \u001b[39mself\u001b[39m\u001b[39m.\u001b[39m_regular \u001b[39m=\u001b[39m regular\n\u001b[1;32m    357\u001b[0m \u001b[39mif\u001b[39;00m regular \u001b[39mis\u001b[39;00m \u001b[39mnot\u001b[39;00m \u001b[39mNone\u001b[39;00m \u001b[39mand\u001b[39;00m \u001b[39mnot\u001b[39;00m PointConfiguration\u001b[39m.\u001b[39m_have_TOPCOM():\n\u001b[0;32m--> 358\u001b[0m     \u001b[39mraise\u001b[39;00m \u001b[39mValueError\u001b[39;00m(\u001b[39m'\u001b[39m\u001b[39mYou must install TOPCOM to test for regularity.\u001b[39m\u001b[39m'\u001b[39m)\n\u001b[1;32m    360\u001b[0m \u001b[39massert\u001b[39;00m star \u001b[39mis\u001b[39;00m \u001b[39mNone\u001b[39;00m \u001b[39mor\u001b[39;00m star \u001b[39min\u001b[39;00m ZZ, \u001b[39m'\u001b[39m\u001b[39mUnknown value: fine=\u001b[39m\u001b[39m'\u001b[39m \u001b[39m+\u001b[39m \u001b[39mstr\u001b[39m(star)\n\u001b[1;32m    361\u001b[0m \u001b[39mself\u001b[39m\u001b[39m.\u001b[39m_star \u001b[39m=\u001b[39m star\n",
      "\u001b[0;31mValueError\u001b[0m: You must install TOPCOM to test for regularity."
     ]
    }
   ],
   "source": [
    "regular = p.restrict_to_regular_triangulations(True).triangulations_list()"
   ]
  },
  {
   "cell_type": "code",
   "execution_count": null,
   "metadata": {
    "vscode": {
     "languageId": "plaintext"
    }
   },
   "outputs": [],
   "source": []
  }
 ],
 "metadata": {
  "kernelspec": {
   "display_name": "SageMath 10.1",
   "language": "sage",
   "name": "sagemath"
  },
  "language_info": {
   "codemirror_mode": {
    "name": "ipython",
    "version": 3
   },
   "file_extension": ".py",
   "mimetype": "text/x-python",
   "name": "python",
   "nbconvert_exporter": "python",
   "pygments_lexer": "ipython3",
   "version": "3.11.5"
  }
 },
 "nbformat": 4,
 "nbformat_minor": 2
}
